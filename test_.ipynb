{
 "cells": [
  {
   "cell_type": "code",
   "execution_count": 1,
   "metadata": {},
   "outputs": [
    {
     "data": {
      "text/plain": [
       "'C:\\\\Users\\\\83625\\\\.cache\\\\huggingface\\\\hub'"
      ]
     },
     "execution_count": 1,
     "metadata": {},
     "output_type": "execute_result"
    }
   ],
   "source": [
    "import os\n",
    "default_home = os.path.join(os.path.expanduser(\"~\"), \".cache\")\n",
    "\n",
    "hf_cache_home = os.path.expanduser(\n",
    "    os.getenv(\n",
    "        \"HF_HOME\",\n",
    "        os.path.join(os.getenv(\"XDG_CACHE_HOME\", default_home), \"huggingface\"),\n",
    "    )\n",
    ")\n",
    "default_cache_path = os.path.join(hf_cache_home, \"hub\")\n",
    "\n",
    "os.getenv(\"HUGGINGFACE_HUB_CACHE\", default_cache_path)"
   ]
  },
  {
   "cell_type": "code",
   "execution_count": 5,
   "metadata": {},
   "outputs": [
    {
     "name": "stdout",
     "output_type": "stream",
     "text": [
      "['Sat', 'Nov', '19', '17:42:42', '2022']\n"
     ]
    }
   ],
   "source": [
    "from time import asctime\n",
    "asctime_now = asctime().split(' ')\n",
    "print(asctime_now)\n"
   ]
  },
  {
   "cell_type": "code",
   "execution_count": 1,
   "metadata": {},
   "outputs": [],
   "source": [
    "class bcolors:\n",
    "    HEADER = '\\033[95m'\n",
    "    OKBLUE = '\\033[94m'\n",
    "    OKCYAN = '\\033[96m'\n",
    "    OKGREEN = '\\033[92m'\n",
    "    WARNING = '\\033[93m'\n",
    "    FAIL = '\\033[91m'\n",
    "    ENDC = '\\033[0m'\n",
    "    BOLD = '\\033[1m'\n",
    "    UNDERLINE = '\\033[4m'\n"
   ]
  },
  {
   "cell_type": "code",
   "execution_count": 20,
   "metadata": {},
   "outputs": [
    {
     "name": "stdout",
     "output_type": "stream",
     "text": [
      "\u001b[91m\u001b[1m this this \u001b[0m\n"
     ]
    }
   ],
   "source": [
    "print(f\"{bcolors.FAIL}{bcolors.BOLD} this this {bcolors.ENDC}\")\n"
   ]
  }
 ],
 "metadata": {
  "kernelspec": {
   "display_name": "Python 3.10.6 ('NLP310')",
   "language": "python",
   "name": "python3"
  },
  "language_info": {
   "codemirror_mode": {
    "name": "ipython",
    "version": 3
   },
   "file_extension": ".py",
   "mimetype": "text/x-python",
   "name": "python",
   "nbconvert_exporter": "python",
   "pygments_lexer": "ipython3",
   "version": "3.10.6"
  },
  "orig_nbformat": 4,
  "vscode": {
   "interpreter": {
    "hash": "fdde473a360cbf3162dfb95c1bf2adbbf89aa5ed840b792246c3f72871cd146a"
   }
  }
 },
 "nbformat": 4,
 "nbformat_minor": 2
}
