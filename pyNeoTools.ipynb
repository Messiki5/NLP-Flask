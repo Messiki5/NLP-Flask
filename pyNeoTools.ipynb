{
 "cells": [
  {
   "cell_type": "code",
   "execution_count": 65,
   "metadata": {},
   "outputs": [],
   "source": [
    "import pandas as pd\n",
    "import os\n",
    "from py2neo import Node, Graph, Relationship, NodeMatcher"
   ]
  },
  {
   "cell_type": "code",
   "execution_count": 66,
   "metadata": {},
   "outputs": [],
   "source": [
    "graph = Graph(\"http://localhost:7474/\", auth=(\"neo4j\", \"123\"))"
   ]
  },
  {
   "cell_type": "code",
   "execution_count": 67,
   "metadata": {},
   "outputs": [],
   "source": [
    "graph.delete_all()"
   ]
  },
  {
   "cell_type": "code",
   "execution_count": 68,
   "metadata": {},
   "outputs": [],
   "source": [
    "df = pd.DataFrame(pd.read_excel('双碳政策-20220905.xls'))\n",
    "attr = ['机构', '日期', '类型', '领域', '省份', '城市']\n",
    "df_lst = [df.iloc[:, :3],df.iloc[:, [0, 3, 4]],df.iloc[:, [0, 5, 6]],df.iloc[:, [0, 7, 8]],df.iloc[:, [0, 9, 10]],df.iloc[:, [0, 11, 13]]]\n",
    "triples= []\n",
    "node_info = []\n",
    "flag = True\n",
    "for attr, df in zip(attr, df_lst):\n",
    "    for i in range(len(df)):\n",
    "        line = df.loc[i]\n",
    "        line = list(dict(line).values())\n",
    "        triples.append((attr, line))\n",
    "        if flag:\n",
    "            node_info.append(('policy', line[0]))\n",
    "        node_info.append((line[1], line[2]))\n",
    "    flag = False\n",
    "df_lst = []"
   ]
  },
  {
   "cell_type": "code",
   "execution_count": 69,
   "metadata": {},
   "outputs": [],
   "source": [
    "# 建立一个节点\n",
    "def create_node(graph, label, attrs):\n",
    "    n = \"_.name=\" + \"\\\"\" + attrs[\"name\"] + \"\\\"\"\n",
    "    matcher = NodeMatcher(graph)\n",
    "    # 查询是否已经存在，若存在则返回节点，否则返回None\n",
    "    value = matcher.match(label).where(n).first()\n",
    "    # 如果要创建的节点不存在则创建\n",
    "    if value is None:\n",
    "        node = Node(label, **attrs)\n",
    "        n = graph.create(node)\n",
    "        return n\n",
    "    return None"
   ]
  },
  {
   "cell_type": "code",
   "execution_count": 70,
   "metadata": {},
   "outputs": [],
   "source": [
    "for label, name in node_info:\n",
    "    if type(label) != str or type(name) != str:\n",
    "        continue\n",
    "    create_node(graph, label, {'name': name})"
   ]
  },
  {
   "cell_type": "code",
   "execution_count": 71,
   "metadata": {},
   "outputs": [],
   "source": [
    "# 建立两个节点之间的关系\n",
    "def create_relationship(graph, label1, attrs1, label2, attrs2, r_name):\n",
    "    value1 = match_node(graph, label1, attrs1)\n",
    "    value2 = match_node(graph, label2, attrs2)\n",
    "    if value1 is None or value2 is None:\n",
    "        return False\n",
    "    r = Relationship(value1, r_name, value2)\n",
    "    graph.create(r)\n",
    "\n",
    "\n",
    "# 查询节点\n",
    "def match_node(graph, label, attrs):\n",
    "    n = \"_.name=\" + \"\\\"\" + attrs[\"name\"] + \"\\\"\"\n",
    "    matcher = NodeMatcher(graph)\n",
    "    return matcher.match(label).where(n).first()"
   ]
  },
  {
   "cell_type": "code",
   "execution_count": null,
   "metadata": {},
   "outputs": [],
   "source": [
    "for relation, (subject, verb, object) in triples:\n",
    "    if type(verb) != str:\n",
    "        continue\n",
    "    create_relationship(graph, 'policy', {'name': subject}, verb, {'name': object}, relation)"
   ]
  }
 ],
 "metadata": {
  "kernelspec": {
   "display_name": "Python 3.10.6 ('neo4j')",
   "language": "python",
   "name": "python3"
  },
  "language_info": {
   "codemirror_mode": {
    "name": "ipython",
    "version": 3
   },
   "file_extension": ".py",
   "mimetype": "text/x-python",
   "name": "python",
   "nbconvert_exporter": "python",
   "pygments_lexer": "ipython3",
   "version": "3.10.6"
  },
  "orig_nbformat": 4,
  "vscode": {
   "interpreter": {
    "hash": "216dc37824f4f2c2777f087123a7ad7c63d3026dae8bd394c5d3de0375791cd1"
   }
  }
 },
 "nbformat": 4,
 "nbformat_minor": 2
}
